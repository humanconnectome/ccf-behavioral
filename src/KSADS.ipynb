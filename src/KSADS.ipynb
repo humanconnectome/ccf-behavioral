{
 "cells": [
  {
   "cell_type": "code",
   "execution_count": null,
   "metadata": {
    "pycharm": {
     "name": "#%%\n"
    }
   },
   "outputs": [],
   "source": [
    "# Downloading the lastest data from KSADS.net \n",
    "# takes more than 30 min\n",
    "import DownloadKsads\n",
    "\n",
    "DownloadKsads.main()\n",
    "print('Done.')"
   ]
  },
  {
   "cell_type": "code",
   "execution_count": null,
   "metadata": {},
   "outputs": [],
   "source": [
    "from IPython.display import display, HTML\n",
    "import ipysheet\n",
    "import ipywidgets as wg\n",
    "import os\n",
    "import pandas as pd\n",
    "import PandasHelper as h\n",
    "from download.redcap import get_behavioral_ids, RedcapTable\n",
    "from KsadsHelper import KSADS\n",
    "\n",
    "from config import LoadSettings"
   ]
  },
  {
   "cell_type": "code",
   "execution_count": null,
   "metadata": {},
   "outputs": [],
   "source": [
    "def read_csv(date, form):\n",
    "    return pd.read_csv(os.path.join(downloads_dir, date, form + '.csv'), low_memory=False)"
   ]
  },
  {
   "cell_type": "code",
   "execution_count": null,
   "metadata": {
    "pycharm": {
     "is_executing": false
    }
   },
   "outputs": [],
   "source": [
    "table = RedcapTable.get_table_by_name('ksads')\n",
    "studyids = get_behavioral_ids()\n",
    "studydata = studyids[studyids.study != 'hcpdparent']"
   ]
  },
  {
   "cell_type": "code",
   "execution_count": null,
   "metadata": {
    "pycharm": {
     "is_executing": false,
     "name": "#%%\n"
    }
   },
   "outputs": [],
   "source": [
    "config = LoadSettings()\n",
    "downloads_dir = config['KSADS']['download_dir']\n",
    "dates = sorted(os.listdir(downloads_dir))\n",
    "\n",
    "olddate = dates[0]\n",
    "newdate = dates[-1]\n",
    "\n",
    "form = 'intro'\n",
    "form_complete = f'{form}_complete'\n",
    "old = read_csv(olddate, form)\n",
    "new = read_csv(newdate, form)\n",
    "redcap_df = table.get_frame(forms=['common', form])\n",
    "redcap_df = redcap_df[redcap_df[form_complete] == 1]"
   ]
  },
  {
   "cell_type": "code",
   "execution_count": null,
   "metadata": {},
   "outputs": [],
   "source": [
    "deleted = h.diff(old, new.id)\n",
    "modified = h.intersection(old, new, 'id').sort_values('id')\n",
    "added = h.diff(new, old.id)\n",
    "added[form_complete], added['common_complete'] = 1, 1\n",
    "added = h.diff(added, redcap_df)"
   ]
  },
  {
   "cell_type": "code",
   "execution_count": null,
   "metadata": {
    "pycharm": {
     "is_executing": false,
     "name": "#%%\n"
    }
   },
   "outputs": [],
   "source": [
    "if added is not None and not added.empty:\n",
    "    merged = redcap_df.append(added, sort=False)\n",
    "else:\n",
    "    merged = redcap_df"
   ]
  },
  {
   "cell_type": "markdown",
   "metadata": {},
   "source": [
    "# Intro"
   ]
  },
  {
   "cell_type": "markdown",
   "metadata": {},
   "source": [
    "### Additional Info\n",
    "Please read the additional info columns for possible clarifications/corrections:"
   ]
  },
  {
   "cell_type": "code",
   "execution_count": null,
   "metadata": {},
   "outputs": [],
   "source": [
    "# Show additional Info\n",
    "show = added.dropna(subset=['additionalinfo']).iloc[:,:6]\n",
    "if not show.empty:\n",
    "    display(HTML('<H3>Additional Info </H3><SMALL> Please read the additional info columns for possible clarifications/corrections</SMALL>'))\n",
    "    display(ipysheet.sheet(ipysheet.from_dataframe(show)))"
   ]
  },
  {
   "cell_type": "markdown",
   "metadata": {},
   "source": [
    "### Quality Control"
   ]
  },
  {
   "cell_type": "code",
   "execution_count": null,
   "metadata": {},
   "outputs": [],
   "source": [
    "dups = h.intersection(redcap_df, added, ['patientid','patienttype'], sources=('current','new'))\n",
    "\n",
    "for id, group in dups.groupby('id'):\n",
    "    cols = ['id','patientid'] + h.unequal_columns(group)\n",
    "    show = group[cols].set_index('_merge')\n",
    "    show.insert(0, \"Version\", \"Keep\")\n",
    "    sheet = ipysheet.sheet(ipysheet.from_dataframe(show))\n",
    "    sheetO = wg.Output()\n",
    "    with sheetO:\n",
    "        display(sheet)\n",
    "    display(sheetO)"
   ]
  },
  {
   "cell_type": "code",
   "execution_count": null,
   "metadata": {},
   "outputs": [],
   "source": [
    "btn_size = wg.Layout(width='60px', height=\"100%\")"
   ]
  },
  {
   "cell_type": "code",
   "execution_count": null,
   "metadata": {},
   "outputs": [],
   "source": [
    "for i in range(len(show)):\n",
    "    print(show.iloc[i, 0])\n",
    "    btn = wg.ToggleButton(description=\"Keep\", layout=btn_size)\n",
    "    ipysheet.cell(i, 0, btn)"
   ]
  },
  {
   "cell_type": "code",
   "execution_count": null,
   "metadata": {},
   "outputs": [],
   "source": [
    "for idx, v in show.iterrows():\n",
    "    "
   ]
  },
  {
   "cell_type": "code",
   "execution_count": null,
   "metadata": {},
   "outputs": [],
   "source": [
    "with sheetO:\n",
    "    print(\"Test\")"
   ]
  },
  {
   "cell_type": "code",
   "execution_count": null,
   "metadata": {},
   "outputs": [],
   "source": [
    "sheetO.clear_output()"
   ]
  },
  {
   "cell_type": "code",
   "execution_count": null,
   "metadata": {},
   "outputs": [],
   "source": [
    "ipysheet.column()"
   ]
  },
  {
   "cell_type": "code",
   "execution_count": null,
   "metadata": {},
   "outputs": [],
   "source": [
    "ipysheet.column(0, [wg.ToggleButton(description=\"Keep\", layout=btn_size)])"
   ]
  },
  {
   "cell_type": "code",
   "execution_count": null,
   "metadata": {},
   "outputs": [],
   "source": []
  },
  {
   "cell_type": "code",
   "execution_count": null,
   "metadata": {},
   "outputs": [],
   "source": []
  },
  {
   "cell_type": "code",
   "execution_count": null,
   "metadata": {},
   "outputs": [],
   "source": []
  },
  {
   "cell_type": "code",
   "execution_count": null,
   "metadata": {},
   "outputs": [],
   "source": [
    "merged[merged.duplicated(['patientid','patienttype'], keep=False)].drop_duplicates(keep=False)"
   ]
  },
  {
   "cell_type": "code",
   "execution_count": null,
   "metadata": {},
   "outputs": [],
   "source": [
    "dups = merged[merged.duplicated(['patientid','patienttype'], keep=False)].sort_values(['patientid','patienttype'])\n",
    "\n",
    "#ksads.warn_duplicates(duplicates, form)\n",
    "dups"
   ]
  },
  {
   "cell_type": "code",
   "execution_count": null,
   "metadata": {},
   "outputs": [],
   "source": [
    "def series_is_equal(series):\n",
    "    return series.duplicated(keep=False).all()"
   ]
  },
  {
   "cell_type": "code",
   "execution_count": null,
   "metadata": {},
   "outputs": [],
   "source": [
    "[colname for colname, value in dups.iteritems() if not series_is_equal(value)]"
   ]
  },
  {
   "cell_type": "code",
   "execution_count": null,
   "metadata": {},
   "outputs": [],
   "source": [
    "def diff(left, right)"
   ]
  },
  {
   "cell_type": "code",
   "execution_count": null,
   "metadata": {},
   "outputs": [],
   "source": [
    "new.merge(old, how='left', indicator=True)"
   ]
  },
  {
   "cell_type": "code",
   "execution_count": null,
   "metadata": {},
   "outputs": [],
   "source": [
    "def isequal(xlist):\n",
    "    # They are all nan or are equal to each other\n",
    "    return all(map(pd.isna, xlist)) or all([xlist[0] == x for x in xlist[1:]])\n",
    "\n",
    "def unequal_columns(df):\n",
    "    \"\"\" Find the name of the columns that are unequal\n",
    "    \"\"\"\n",
    "    unequal = [colname for colname, value in df.iteritems() if not isequal(value.to_list())]\n",
    "    return unequal"
   ]
  },
  {
   "cell_type": "code",
   "execution_count": null,
   "metadata": {},
   "outputs": [],
   "source": [
    "dups[unequal_columns(dups)]"
   ]
  },
  {
   "cell_type": "code",
   "execution_count": null,
   "metadata": {},
   "outputs": [],
   "source": [
    "for id, group in dups.groupby('id'):\n",
    "    display(group[unequal_columns(group)])"
   ]
  },
  {
   "cell_type": "code",
   "execution_count": null,
   "metadata": {},
   "outputs": [],
   "source": [
    "old.merge()"
   ]
  },
  {
   "cell_type": "code",
   "execution_count": null,
   "metadata": {},
   "outputs": [],
   "source": [
    "for colname, value in dups.iteritems():\n",
    "    xx = value.to_list()    \n",
    "    x = xx.pop()\n",
    "    \n",
    "    if pd.isna(x) and all(map(pd.isna, xx)):\n",
    "        print(colname, 'is all nan')\n",
    "    elif not all([x == i for i in xx]):\n",
    "        print(x, xx)"
   ]
  },
  {
   "cell_type": "code",
   "execution_count": null,
   "metadata": {},
   "outputs": [],
   "source": []
  },
  {
   "cell_type": "code",
   "execution_count": null,
   "metadata": {},
   "outputs": [],
   "source": []
  },
  {
   "cell_type": "code",
   "execution_count": null,
   "metadata": {},
   "outputs": [],
   "source": [
    "not_in_redcap = h.difference(df, studyids.subject).copy()\n",
    "not_in_redcap['reason'] = 'PatientID not in Redcap'\n",
    "not_in_redcap.rename(columns={'sitename': 'site'}, inplace=True)\n",
    "data['not_in_redcap'] = not_in_redcap\n",
    "ksads.warn_not_in_redcap(not_in_redcap, form)"
   ]
  },
  {
   "cell_type": "code",
   "execution_count": null,
   "metadata": {},
   "outputs": [],
   "source": [
    "missing = h.difference(studydata, df.subject).copy()\n",
    "missing = missing[missing.flagged.isnull()]\n",
    "missing = missing[missing.interview_date < '2019-05-01']\n",
    "missing = missing[missing.study != 'hcpa']\n",
    "missing['reason'] = 'Missing in Box'\n",
    "data['missing'] = missing\n",
    "ksads.warn_missing(missing, form)"
   ]
  },
  {
   "cell_type": "markdown",
   "metadata": {},
   "source": [
    "# Screener"
   ]
  },
  {
   "cell_type": "code",
   "execution_count": null,
   "metadata": {},
   "outputs": [],
   "source": [
    "form = 'screener'\n",
    "data = ksads.read_data(form)\n",
    "overall[form] = data"
   ]
  },
  {
   "cell_type": "code",
   "execution_count": null,
   "metadata": {},
   "outputs": [],
   "source": [
    "data['merged'] = data['merged'].drop_duplicates(['patientid','patienttype'], keep='last')\n",
    "df = data['merged']"
   ]
  },
  {
   "cell_type": "code",
   "execution_count": null,
   "metadata": {},
   "outputs": [],
   "source": [
    "df = data['merged']\n",
    "df = df[['patientid', 'patienttype', 'sitename', 'additionalinfo']].copy()\n",
    "df['subject'] = df['patientid'].str.split(\"_\", 1, expand=True)[0].str.strip()"
   ]
  },
  {
   "cell_type": "markdown",
   "metadata": {},
   "source": [
    "### Additional Info\n",
    "Please read the additional info columns for possible clarifications/corrections:"
   ]
  },
  {
   "cell_type": "code",
   "execution_count": null,
   "metadata": {},
   "outputs": [],
   "source": [
    "data['added'].dropna(subset=['additionalinfo'])"
   ]
  },
  {
   "cell_type": "markdown",
   "metadata": {},
   "source": [
    "### Quality Control"
   ]
  },
  {
   "cell_type": "code",
   "execution_count": null,
   "metadata": {},
   "outputs": [],
   "source": [
    "duplicates = df[df.duplicated(['patientid', 'patienttype'], keep=False)]\n",
    "duplicates['reason'] = 'Duplicate IDs'\n",
    "data['duplicates'] = duplicates\n",
    "ksads.warn_duplicates(duplicates, form)"
   ]
  },
  {
   "cell_type": "code",
   "execution_count": null,
   "metadata": {},
   "outputs": [],
   "source": [
    "not_in_redcap = h.difference(df, studyids.subject).copy()\n",
    "not_in_redcap['reason'] = 'PatientID not in Redcap'\n",
    "not_in_redcap.rename(columns={'sitename': 'site'}, inplace=True)\n",
    "data['not_in_redcap'] = not_in_redcap\n",
    "ksads.warn_not_in_redcap(not_in_redcap, form)"
   ]
  },
  {
   "cell_type": "code",
   "execution_count": null,
   "metadata": {},
   "outputs": [],
   "source": [
    "missing = h.difference(studydata, df.subject).copy()\n",
    "missing = missing[missing.flagged.isnull()]\n",
    "missing = missing[missing.interview_date < '2019-05-01']\n",
    "missing = missing[missing.study != 'hcpa']\n",
    "missing['reason'] = 'Missing in Box'\n",
    "data['missing'] = missing\n",
    "ksads.warn_missing(missing, form)"
   ]
  },
  {
   "cell_type": "markdown",
   "metadata": {},
   "source": [
    "# Supplement"
   ]
  },
  {
   "cell_type": "code",
   "execution_count": null,
   "metadata": {},
   "outputs": [],
   "source": [
    "form = 'supplement'\n",
    "data = ksads.read_data(form)\n",
    "overall[form] = data"
   ]
  },
  {
   "cell_type": "code",
   "execution_count": null,
   "metadata": {},
   "outputs": [],
   "source": [
    "data['merged'] = data['merged'].drop_duplicates(['patientid','patienttype'])\n",
    "df = data['merged']"
   ]
  },
  {
   "cell_type": "code",
   "execution_count": null,
   "metadata": {},
   "outputs": [],
   "source": [
    "df = data['merged']\n",
    "df = df[['patientid', 'patienttype', 'sitename', 'additionalinfo']].copy()\n",
    "df['subject'] = df['patientid'].str.split(\"_\", 1, expand=True)[0].str.strip()"
   ]
  },
  {
   "cell_type": "markdown",
   "metadata": {},
   "source": [
    "### Additional Info\n",
    "Please read the additional info columns for possible clarifications/corrections:"
   ]
  },
  {
   "cell_type": "code",
   "execution_count": null,
   "metadata": {},
   "outputs": [],
   "source": [
    "data['added'].dropna(subset=['additionalinfo'])"
   ]
  },
  {
   "cell_type": "markdown",
   "metadata": {},
   "source": [
    "### Quality Control"
   ]
  },
  {
   "cell_type": "code",
   "execution_count": null,
   "metadata": {},
   "outputs": [],
   "source": [
    "duplicates = df[df.duplicated(['patientid', 'patienttype'], keep=False)]\n",
    "duplicates['reason'] = 'Duplicate IDs'\n",
    "data['duplicates'] = duplicates\n",
    "ksads.warn_duplicates(duplicates, form)"
   ]
  },
  {
   "cell_type": "code",
   "execution_count": null,
   "metadata": {},
   "outputs": [],
   "source": [
    "not_in_redcap = h.difference(df, studyids.subject).copy()\n",
    "not_in_redcap['reason'] = 'PatientID not in Redcap'\n",
    "not_in_redcap.rename(columns={'sitename': 'site'}, inplace=True)\n",
    "data['not_in_redcap'] = not_in_redcap\n",
    "ksads.warn_not_in_redcap(not_in_redcap, form)"
   ]
  },
  {
   "cell_type": "code",
   "execution_count": null,
   "metadata": {},
   "outputs": [],
   "source": [
    "missing = h.difference(studydata, df.subject).copy()\n",
    "missing = missing[missing.flagged.isnull()]\n",
    "missing = missing[missing.interview_date < '2019-05-01']\n",
    "missing = missing[missing.study != 'hcpa']\n",
    "missing['reason'] = 'Missing in Box'\n",
    "data['missing'] = missing\n",
    "ksads.warn_missing(missing, form)"
   ]
  },
  {
   "cell_type": "markdown",
   "metadata": {},
   "source": [
    "# Upload New Data"
   ]
  },
  {
   "cell_type": "code",
   "execution_count": null,
   "metadata": {},
   "outputs": [],
   "source": []
  },
  {
   "cell_type": "code",
   "execution_count": null,
   "metadata": {},
   "outputs": [],
   "source": [
    "def put_data(d):\n",
    "    return ksads.redcap.send_frame(d)"
   ]
  },
  {
   "cell_type": "code",
   "execution_count": null,
   "metadata": {},
   "outputs": [],
   "source": [
    "x = put_data(overall['intro']['added']).json()\n",
    "len(x)"
   ]
  },
  {
   "cell_type": "code",
   "execution_count": null,
   "metadata": {},
   "outputs": [],
   "source": [
    "y = put_data(overall['screener']['added']).json()\n",
    "len(y)"
   ]
  },
  {
   "cell_type": "code",
   "execution_count": null,
   "metadata": {},
   "outputs": [],
   "source": [
    "z = put_data(overall['supplement']['added']).json()\n",
    "len(z)"
   ]
  }
 ],
 "metadata": {
  "kernelspec": {
   "display_name": "ccf_env",
   "language": "python",
   "name": "ccf_env"
  },
  "language_info": {
   "codemirror_mode": {
    "name": "ipython",
    "version": 3
   },
   "file_extension": ".py",
   "mimetype": "text/x-python",
   "name": "python",
   "nbconvert_exporter": "python",
   "pygments_lexer": "ipython3",
   "version": "3.7.5"
  },
  "pycharm": {
   "stem_cell": {
    "cell_type": "raw",
    "metadata": {
     "collapsed": false
    },
    "source": []
   }
  }
 },
 "nbformat": 4,
 "nbformat_minor": 2
}
