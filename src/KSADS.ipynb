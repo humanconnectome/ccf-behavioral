{
 "cells": [
  {
   "cell_type": "code",
   "execution_count": null,
   "metadata": {
    "pycharm": {
     "name": "#%%\n"
    }
   },
   "outputs": [],
   "source": [
    "# Downloading the lastest data from KSADS.net \n",
    "# takes more than 30 min\n",
    "import DownloadKsads\n",
    "\n",
    "DownloadKsads.main()\n",
    "print('Done.')"
   ]
  },
  {
   "cell_type": "code",
   "execution_count": null,
   "metadata": {},
   "outputs": [],
   "source": [
    "from IPython.display import display, HTML\n",
    "import ipysheet\n",
    "import ipywidgets as wg\n",
    "import os\n",
    "import pandas as pd\n",
    "import PandasHelper as h\n",
    "from download.redcap import get_behavioral_ids, RedcapTable\n",
    "from KsadsHelper import KSADS\n",
    "import numpy as np\n",
    "import re\n",
    "from config import LoadSettings"
   ]
  },
  {
   "cell_type": "code",
   "execution_count": null,
   "metadata": {},
   "outputs": [],
   "source": [
    "def read_csv(date, form):\n",
    "    return pd.read_csv(os.path.join(downloads_dir, date, form + '.csv'), low_memory=False)"
   ]
  },
  {
   "cell_type": "code",
   "execution_count": null,
   "metadata": {
    "pycharm": {
     "is_executing": false
    }
   },
   "outputs": [],
   "source": [
    "table = RedcapTable.get_table_by_name('ksads')\n",
    "studyids = get_behavioral_ids()"
   ]
  },
  {
   "cell_type": "code",
   "execution_count": null,
   "metadata": {
    "pycharm": {
     "is_executing": false,
     "name": "#%%\n"
    }
   },
   "outputs": [],
   "source": [
    "config = LoadSettings()\n",
    "downloads_dir = config['KSADS']['download_dir']\n",
    "dates = sorted(os.listdir(downloads_dir))\n",
    "\n",
    "olddate = dates[0]\n",
    "newdate = dates[-1]\n",
    "\n",
    "form = 'intro'\n",
    "form_complete = f'{form}_complete'\n",
    "old = read_csv(olddate, form)\n",
    "new = read_csv(newdate, form)\n",
    "redcap_df = table.get_frame(forms=['common', form])\n",
    "redcap_df = redcap_df[redcap_df[form_complete] == 1]"
   ]
  },
  {
   "cell_type": "code",
   "execution_count": null,
   "metadata": {},
   "outputs": [],
   "source": [
    "deleted = h.diff(old, new.id)\n",
    "modified = h.intersection(old, new, 'id').sort_values('id')\n",
    "added = h.diff(new, old.id)\n",
    "added[form_complete], added['common_complete'] = 1, 1\n",
    "added = h.diff(added, redcap_df)"
   ]
  },
  {
   "cell_type": "code",
   "execution_count": null,
   "metadata": {
    "pycharm": {
     "is_executing": false,
     "name": "#%%\n"
    }
   },
   "outputs": [],
   "source": [
    "if added is not None and not added.empty:\n",
    "    merged = redcap_df.append(added, sort=False)\n",
    "else:\n",
    "    merged = redcap_df"
   ]
  },
  {
   "cell_type": "code",
   "execution_count": null,
   "metadata": {
    "pycharm": {
     "name": "#%%\n"
    }
   },
   "outputs": [],
   "source": [
    "if not deleted.empty:\n",
    "    display(HTML('<H3>Deleted Rows</H3><SMALL> The following rows have been deleted in the new data, compared to the previously available data. </SMALL>'))\n",
    "    display(ipysheet.sheet(ipysheet.from_dataframe(deleted)))"
   ]
  },
  {
   "cell_type": "code",
   "execution_count": null,
   "metadata": {
    "pycharm": {
     "name": "#%%\n"
    }
   },
   "outputs": [],
   "source": [
    "if not modified.empty:\n",
    "    display(HTML('<H3>Modified Rows</H3><SMALL> The following rows have been modified. </SMALL>'))\n",
    "    display(ipysheet.sheet(ipysheet.from_dataframe(modified)))"
   ]
  },
  {
   "cell_type": "code",
   "execution_count": null,
   "metadata": {},
   "outputs": [],
   "source": [
    "# Show additional Info\n",
    "show = added.dropna(subset=['additionalinfo']).iloc[:,:6]\n",
    "if not show.empty:\n",
    "    display(HTML('<H3>Additional Info </H3><SMALL> Please read the additional info columns for possible clarifications/corrections</SMALL>'))\n",
    "    display(ipysheet.sheet(ipysheet.from_dataframe(show)))"
   ]
  },
  {
   "cell_type": "code",
   "execution_count": null,
   "metadata": {},
   "outputs": [],
   "source": [
    "def update(btn):\n",
    "    global added\n",
    "    added = dups.loc[[dd.value for dd in selections]].iloc[:,:-1].append(added, sort=False).drop_duplicates(['patientid','patienttype'])\n",
    "\n",
    "btn = wg.Button(description = 'Submit changes')\n",
    "btn.on_click(update)\n",
    "    \n",
    "dups = h.intersection(redcap_df, added, ['patientid','patienttype'], sources=('current','new')).reset_index(drop=True)\n",
    "selections = []\n",
    "output = []\n",
    "for id, group in dups.groupby('id'):\n",
    "    cols = ['id','patientid'] + h.unequal_columns(group)\n",
    "    show = group[cols].set_index('_merge')\n",
    "    sheet = ipysheet.sheet(ipysheet.from_dataframe(show))\n",
    "    options = [(k,v) for v, k in group._merge.items()]\n",
    "\n",
    "    dd = wg.Dropdown(\n",
    "        options=options,\n",
    "        value=options[0][1],\n",
    "        description='Keep version:',\n",
    "        disabled=False,\n",
    "    )\n",
    "    selections.append(dd)\n",
    "    output.append(sheet)\n",
    "    output.append(dd)\n",
    "\n",
    "if output:\n",
    "    display(HTML('<H3>Should New Data Overwrite Old Data</H3><SMALL>Please select which version to keep.</SMALL>'))\n",
    "    for x in output:\n",
    "        display(x)\n",
    "    display(btn)"
   ]
  },
  {
   "cell_type": "code",
   "execution_count": null,
   "metadata": {},
   "outputs": [],
   "source": [
    "df = merged.copy()\n",
    "df['subject'] = df['patientid'].str.split(\"_\", 1, expand=True)[0].str.strip()\n",
    "not_in_redcap = h.diff(df, studyids.subject).iloc[:,:-1]\n",
    "h.asInt(not_in_redcap, 'id','common_complete', form_complete)\n",
    "not_in_redcap.insert(0,'delete', False)\n",
    "not_in_redcap.insert(1,'link', 'view')\n",
    "\n",
    "sheet = ipysheet.sheet(ipysheet.from_dataframe(not_in_redcap))\n",
    "\n",
    "spaced = wg.Layout(margin='30px 0 20px 0')\n",
    "\n",
    "save_btn = wg.Button(description=\"Update\", icon='save')\n",
    "reset_btn = wg.Button(description=\"Reset\", icon='trash')\n",
    "btns = wg.HBox([save_btn, reset_btn], layout=spaced)\n",
    "\n",
    "def on_reset(btn):\n",
    "    sheet.cells= ipysheet.from_dataframe(not_in_redcap).cells\n",
    "#     sheet = ipysheet.sheet(ipysheet.from_dataframe(not_in_redcap))\n",
    "    \n",
    "reset_btn.on_click(on_reset)\n",
    "\n",
    "def on_update(btn):\n",
    "    df = ipysheet.to_dataframe(sheet)\n",
    "    df = df.replace('nan', np.nan)\n",
    "    \n",
    "    # delta  of changes\n",
    "    z = ph.difference(df, not_in_redcap)\n",
    "\n",
    "\n",
    "    updates = z[~z.delete].iloc[:,1:]\n",
    "    if not updates.empty:\n",
    "        r = table.send_frame(updates)\n",
    "        print('Updates: ',r.status_code, r.content)\n",
    "\n",
    "    delete = z[z.delete].id.tolist()\n",
    "    if delete:\n",
    "        r = table.delete_records(delete)\n",
    "        print('Delete Records: ',r.status_code, r.content)\n",
    "\n",
    "save_btn.on_click(on_update)\n",
    "\n",
    "fancy_widget = wg.VBox([sheet, btns])\n",
    "\n",
    "if not not_in_redcap.empty:\n",
    "    display(HTML('<H3>Subject IDs not in Redcap</H3><SMALL>Please either change patientid to match an ID in redcap or delete the row.</SMALL>'))\n",
    "    display(fancy_widget)"
   ]
  },
  {
   "cell_type": "code",
   "execution_count": null,
   "metadata": {},
   "outputs": [],
   "source": [
    "ipysheet.cell(0,1, wg.HTML('<a href=\"https://google.com\">48598</a>'))"
   ]
  },
  {
   "cell_type": "code",
   "execution_count": null,
   "metadata": {},
   "outputs": [],
   "source": [
    "def convert_to_links():\n",
    "    values = [wg.HTML(f'<a target=\"_blank\" href=\"https://redcap.wustl.edu/redcap/redcap_v8.11.0/DataEntry/record_home.php?pid=3355&arm=1&id={x}\">view</a>') for x in sheet.cells[2].value]\n",
    "    ipysheet.column(1, values) "
   ]
  },
  {
   "cell_type": "code",
   "execution_count": null,
   "metadata": {},
   "outputs": [],
   "source": [
    "remove_html()"
   ]
  },
  {
   "cell_type": "code",
   "execution_count": null,
   "metadata": {},
   "outputs": [],
   "source": [
    "convert_to_links()"
   ]
  },
  {
   "cell_type": "code",
   "execution_count": null,
   "metadata": {},
   "outputs": [],
   "source": [
    "ipysheet.column()"
   ]
  },
  {
   "cell_type": "code",
   "execution_count": null,
   "metadata": {},
   "outputs": [],
   "source": [
    "extract_rx = re.compile('<[^>]+>')"
   ]
  },
  {
   "cell_type": "code",
   "execution_count": null,
   "metadata": {},
   "outputs": [],
   "source": [
    "def remove_html():\n",
    "    values = [extract_rx.sub('', x.value) for x in sheet.cells[1].value]\n",
    "    ipysheet.column(1, values) "
   ]
  },
  {
   "cell_type": "code",
   "execution_count": null,
   "metadata": {},
   "outputs": [],
   "source": [
    "df = ipysheet.to_dataframe(sheet)\n",
    "df = df.replace('nan', np.nan)\n",
    "df"
   ]
  },
  {
   "cell_type": "code",
   "execution_count": null,
   "metadata": {},
   "outputs": [],
   "source": [
    "values"
   ]
  },
  {
   "cell_type": "code",
   "execution_count": null,
   "metadata": {},
   "outputs": [],
   "source": [
    "studydata = studyids[studyids.study != 'hcpdparent']\n",
    "missing = h.diff(studydata, df.subject)\n",
    "\n",
    "# missing = h.difference(studydata, df.subject).copy()\n",
    "missing = missing[missing.flagged.isnull()]\n",
    "missing = missing[missing.interview_date < '2019-05-01']\n",
    "missing = missing[missing.study != 'hcpa']\n",
    "missing['reason'] = 'Missing in Box'\n",
    "missing\n",
    "# data['missing'] = missing\n",
    "# ksads.warn_missing(missing, form)"
   ]
  },
  {
   "cell_type": "code",
   "execution_count": null,
   "metadata": {},
   "outputs": [],
   "source": [
    "# Screener"
   ]
  },
  {
   "cell_type": "code",
   "execution_count": null,
   "metadata": {},
   "outputs": [],
   "source": [
    "df = data['merged']\n",
    "df = df[['patientid', 'patienttype', 'sitename', 'additionalinfo']].copy()\n",
    "df['subject'] = df['patientid'].str.split(\"_\", 1, expand=True)[0].str.strip()"
   ]
  },
  {
   "cell_type": "markdown",
   "metadata": {},
   "source": [
    "### Additional Info\n",
    "Please read the additional info columns for possible clarifications/corrections:"
   ]
  },
  {
   "cell_type": "code",
   "execution_count": null,
   "metadata": {},
   "outputs": [],
   "source": [
    "data['added'].dropna(subset=['additionalinfo'])"
   ]
  },
  {
   "cell_type": "markdown",
   "metadata": {},
   "source": [
    "### Quality Control"
   ]
  },
  {
   "cell_type": "code",
   "execution_count": null,
   "metadata": {},
   "outputs": [],
   "source": [
    "duplicates = df[df.duplicated(['patientid', 'patienttype'], keep=False)]\n",
    "duplicates['reason'] = 'Duplicate IDs'\n",
    "data['duplicates'] = duplicates\n",
    "ksads.warn_duplicates(duplicates, form)"
   ]
  },
  {
   "cell_type": "code",
   "execution_count": null,
   "metadata": {},
   "outputs": [],
   "source": [
    "not_in_redcap = h.difference(df, studyids.subject).copy()\n",
    "not_in_redcap['reason'] = 'PatientID not in Redcap'\n",
    "not_in_redcap.rename(columns={'sitename': 'site'}, inplace=True)\n",
    "data['not_in_redcap'] = not_in_redcap\n",
    "ksads.warn_not_in_redcap(not_in_redcap, form)"
   ]
  },
  {
   "cell_type": "code",
   "execution_count": null,
   "metadata": {},
   "outputs": [],
   "source": [
    "missing = h.difference(studydata, df.subject).copy()\n",
    "missing = missing[missing.flagged.isnull()]\n",
    "missing = missing[missing.interview_date < '2019-05-01']\n",
    "missing = missing[missing.study != 'hcpa']\n",
    "missing['reason'] = 'Missing in Box'\n",
    "data['missing'] = missing\n",
    "ksads.warn_missing(missing, form)"
   ]
  },
  {
   "cell_type": "markdown",
   "metadata": {},
   "source": [
    "# Supplement"
   ]
  },
  {
   "cell_type": "code",
   "execution_count": null,
   "metadata": {},
   "outputs": [],
   "source": [
    "form = 'supplement'\n",
    "data = ksads.read_data(form)\n",
    "overall[form] = data"
   ]
  },
  {
   "cell_type": "code",
   "execution_count": null,
   "metadata": {},
   "outputs": [],
   "source": [
    "data['merged'] = data['merged'].drop_duplicates(['patientid','patienttype'])\n",
    "df = data['merged']"
   ]
  },
  {
   "cell_type": "code",
   "execution_count": null,
   "metadata": {},
   "outputs": [],
   "source": [
    "df = data['merged']\n",
    "df = df[['patientid', 'patienttype', 'sitename', 'additionalinfo']].copy()\n",
    "df['subject'] = df['patientid'].str.split(\"_\", 1, expand=True)[0].str.strip()"
   ]
  },
  {
   "cell_type": "markdown",
   "metadata": {},
   "source": [
    "### Additional Info\n",
    "Please read the additional info columns for possible clarifications/corrections:"
   ]
  },
  {
   "cell_type": "code",
   "execution_count": null,
   "metadata": {},
   "outputs": [],
   "source": [
    "data['added'].dropna(subset=['additionalinfo'])"
   ]
  },
  {
   "cell_type": "markdown",
   "metadata": {},
   "source": [
    "### Quality Control"
   ]
  },
  {
   "cell_type": "code",
   "execution_count": null,
   "metadata": {},
   "outputs": [],
   "source": [
    "duplicates = df[df.duplicated(['patientid', 'patienttype'], keep=False)]\n",
    "duplicates['reason'] = 'Duplicate IDs'\n",
    "data['duplicates'] = duplicates\n",
    "ksads.warn_duplicates(duplicates, form)"
   ]
  },
  {
   "cell_type": "code",
   "execution_count": null,
   "metadata": {},
   "outputs": [],
   "source": [
    "not_in_redcap = h.difference(df, studyids.subject).copy()\n",
    "not_in_redcap['reason'] = 'PatientID not in Redcap'\n",
    "not_in_redcap.rename(columns={'sitename': 'site'}, inplace=True)\n",
    "data['not_in_redcap'] = not_in_redcap\n",
    "ksads.warn_not_in_redcap(not_in_redcap, form)"
   ]
  },
  {
   "cell_type": "code",
   "execution_count": null,
   "metadata": {},
   "outputs": [],
   "source": [
    "missing = h.difference(studydata, df.subject).copy()\n",
    "missing = missing[missing.flagged.isnull()]\n",
    "missing = missing[missing.interview_date < '2019-05-01']\n",
    "missing = missing[missing.study != 'hcpa']\n",
    "missing['reason'] = 'Missing in Box'\n",
    "data['missing'] = missing\n",
    "ksads.warn_missing(missing, form)"
   ]
  },
  {
   "cell_type": "markdown",
   "metadata": {},
   "source": [
    "# Upload New Data"
   ]
  },
  {
   "cell_type": "code",
   "execution_count": null,
   "metadata": {},
   "outputs": [],
   "source": []
  },
  {
   "cell_type": "code",
   "execution_count": null,
   "metadata": {},
   "outputs": [],
   "source": [
    "def put_data(d):\n",
    "    return ksads.redcap.send_frame(d)"
   ]
  },
  {
   "cell_type": "code",
   "execution_count": null,
   "metadata": {},
   "outputs": [],
   "source": [
    "x = put_data(overall['intro']['added']).json()\n",
    "len(x)"
   ]
  },
  {
   "cell_type": "code",
   "execution_count": null,
   "metadata": {},
   "outputs": [],
   "source": [
    "y = put_data(overall['screener']['added']).json()\n",
    "len(y)"
   ]
  },
  {
   "cell_type": "code",
   "execution_count": null,
   "metadata": {},
   "outputs": [],
   "source": [
    "z = put_data(overall['supplement']['added']).json()\n",
    "len(z)"
   ]
  }
 ],
 "metadata": {
  "jupytext": {
   "formats": "ipynb,py:percent"
  },
  "kernelspec": {
   "display_name": "ccf_env",
   "language": "python",
   "name": "ccf_env"
  },
  "language_info": {
   "codemirror_mode": {
    "name": "ipython",
    "version": 3
   },
   "file_extension": ".py",
   "mimetype": "text/x-python",
   "name": "python",
   "nbconvert_exporter": "python",
   "pygments_lexer": "ipython3",
   "version": "3.7.5"
  },
  "pycharm": {
   "stem_cell": {
    "cell_type": "raw",
    "metadata": {
     "collapsed": false
    },
    "source": []
   }
  }
 },
 "nbformat": 4,
 "nbformat_minor": 2
}
