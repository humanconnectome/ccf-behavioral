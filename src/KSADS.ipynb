{
 "cells": [
  {
   "cell_type": "code",
   "execution_count": null,
   "metadata": {},
   "outputs": [],
   "source": [
    "import os\n",
    "import pandas as pd\n",
    "import DownloadKsads\n",
    "import PandasHelper as h\n",
    "from download.redcap import Redcap\n",
    "from KsadsHelper import KSADS\n",
    "import requests\n",
    "\n",
    "ksads = KSADS()\n",
    "redcap = Redcap()"
   ]
  },
  {
   "cell_type": "code",
   "execution_count": null,
   "metadata": {},
   "outputs": [],
   "source": [
    "from config import LoadSettings\n",
    "\n",
    "config = LoadSettings()['Redcap']\n",
    "redK = config['datasources']['ksads']\n",
    "ksad_token = redK['token']\n",
    "redcap_ksads = Redcap(redK['url'])\n"
   ]
  },
  {
   "cell_type": "code",
   "execution_count": null,
   "metadata": {},
   "outputs": [],
   "source": [
    "studyids = redcap.getredcapids()\n",
    "studydata = redcap.getredcapdata()"
   ]
  },
  {
   "cell_type": "markdown",
   "metadata": {},
   "source": [
    "### Note\n",
    "The following code <b>takes</b> 20-30min to run due to KSADS.net taking a long time."
   ]
  },
  {
   "cell_type": "code",
   "execution_count": null,
   "metadata": {},
   "outputs": [],
   "source": [
    "%time DownloadKsads.main()"
   ]
  },
  {
   "cell_type": "code",
   "execution_count": null,
   "metadata": {},
   "outputs": [],
   "source": [
    "ksads.dates"
   ]
  },
  {
   "cell_type": "code",
   "execution_count": null,
   "metadata": {},
   "outputs": [],
   "source": [
    "ksads.olddate = ksads.dates[0]\n",
    "ksads.newdate = ksads.dates[-1]"
   ]
  },
  {
   "cell_type": "code",
   "execution_count": null,
   "metadata": {},
   "outputs": [],
   "source": [
    "overall = {}"
   ]
  },
  {
   "cell_type": "markdown",
   "metadata": {},
   "source": [
    "# Intro"
   ]
  },
  {
   "cell_type": "code",
   "execution_count": null,
   "metadata": {},
   "outputs": [],
   "source": [
    "form = 'intro'\n",
    "data = ksads.read_data(form)\n",
    "overall[form] = data"
   ]
  },
  {
   "cell_type": "code",
   "execution_count": null,
   "metadata": {},
   "outputs": [],
   "source": [
    "data['merged'] = data['merged'].drop_duplicates(['patientid','patienttype'])\n",
    "df = data['merged']"
   ]
  },
  {
   "cell_type": "code",
   "execution_count": null,
   "metadata": {},
   "outputs": [],
   "source": [
    "df = data['merged']\n",
    "df = df[['patientid', 'patienttype', 'sitename', 'additionalinfo']].copy()\n",
    "df['subject'] = df['patientid'].str.split(\"_\", 1, expand=True)[0].str.strip()"
   ]
  },
  {
   "cell_type": "markdown",
   "metadata": {},
   "source": [
    "### Additional Info\n",
    "Please read the additional info columns for possible clarifications/corrections:"
   ]
  },
  {
   "cell_type": "code",
   "execution_count": null,
   "metadata": {},
   "outputs": [],
   "source": [
    "data['added'].dropna(subset=['additionalinfo'])"
   ]
  },
  {
   "cell_type": "markdown",
   "metadata": {},
   "source": [
    "### Quality Control"
   ]
  },
  {
   "cell_type": "code",
   "execution_count": null,
   "metadata": {},
   "outputs": [],
   "source": [
    "duplicates = df[df.duplicated(['patientid', 'patienttype'], keep=False)].copy()\n",
    "duplicates['reason'] = 'Duplicate IDs'\n",
    "duplicates.sort_values(['patientid','patienttype'])\n",
    "data['duplicates'] = duplicates\n",
    "ksads.warn_duplicates(duplicates, form)"
   ]
  },
  {
   "cell_type": "code",
   "execution_count": null,
   "metadata": {},
   "outputs": [],
   "source": []
  },
  {
   "cell_type": "code",
   "execution_count": null,
   "metadata": {},
   "outputs": [],
   "source": [
    "not_in_redcap = h.difference(df, studyids.subject).copy()\n",
    "not_in_redcap['reason'] = 'PatientID not in Redcap'\n",
    "not_in_redcap.rename(columns={'sitename': 'site'}, inplace=True)\n",
    "data['not_in_redcap'] = not_in_redcap\n",
    "ksads.warn_not_in_redcap(not_in_redcap, form)"
   ]
  },
  {
   "cell_type": "code",
   "execution_count": null,
   "metadata": {},
   "outputs": [],
   "source": [
    "missing = h.difference(studydata, df.subject).copy()\n",
    "missing = missing[missing.flagged.isnull()]\n",
    "missing = missing[missing.interview_date < '2019-05-01']\n",
    "missing = missing[missing.study != 'hcpa']\n",
    "missing['reason'] = 'Missing in Box'\n",
    "data['missing'] = missing\n",
    "ksads.warn_missing(missing, form)"
   ]
  },
  {
   "cell_type": "markdown",
   "metadata": {},
   "source": [
    "# Screener"
   ]
  },
  {
   "cell_type": "code",
   "execution_count": null,
   "metadata": {},
   "outputs": [],
   "source": [
    "form = 'screener'\n",
    "data = ksads.read_data(form)\n",
    "overall[form] = data"
   ]
  },
  {
   "cell_type": "code",
   "execution_count": null,
   "metadata": {},
   "outputs": [],
   "source": [
    "data['merged'] = data['merged'].drop_duplicates(['patientid','patienttype'], keep='last')\n",
    "df = data['merged']"
   ]
  },
  {
   "cell_type": "code",
   "execution_count": null,
   "metadata": {},
   "outputs": [],
   "source": [
    "df = data['merged']\n",
    "df = df[['patientid', 'patienttype', 'sitename', 'additionalinfo']].copy()\n",
    "df['subject'] = df['patientid'].str.split(\"_\", 1, expand=True)[0].str.strip()"
   ]
  },
  {
   "cell_type": "markdown",
   "metadata": {},
   "source": [
    "### Additional Info\n",
    "Please read the additional info columns for possible clarifications/corrections:"
   ]
  },
  {
   "cell_type": "code",
   "execution_count": null,
   "metadata": {},
   "outputs": [],
   "source": [
    "data['added'].dropna(subset=['additionalinfo'])"
   ]
  },
  {
   "cell_type": "markdown",
   "metadata": {},
   "source": [
    "### Quality Control"
   ]
  },
  {
   "cell_type": "code",
   "execution_count": null,
   "metadata": {},
   "outputs": [],
   "source": [
    "duplicates = df[df.duplicated(['patientid', 'patienttype'], keep=False)]\n",
    "duplicates['reason'] = 'Duplicate IDs'\n",
    "data['duplicates'] = duplicates\n",
    "ksads.warn_duplicates(duplicates, form)"
   ]
  },
  {
   "cell_type": "code",
   "execution_count": null,
   "metadata": {},
   "outputs": [],
   "source": [
    "not_in_redcap = h.difference(df, studyids.subject).copy()\n",
    "not_in_redcap['reason'] = 'PatientID not in Redcap'\n",
    "not_in_redcap.rename(columns={'sitename': 'site'}, inplace=True)\n",
    "data['not_in_redcap'] = not_in_redcap\n",
    "ksads.warn_not_in_redcap(not_in_redcap, form)"
   ]
  },
  {
   "cell_type": "code",
   "execution_count": null,
   "metadata": {},
   "outputs": [],
   "source": [
    "missing = h.difference(studydata, df.subject).copy()\n",
    "missing = missing[missing.flagged.isnull()]\n",
    "missing = missing[missing.interview_date < '2019-05-01']\n",
    "missing = missing[missing.study != 'hcpa']\n",
    "missing['reason'] = 'Missing in Box'\n",
    "data['missing'] = missing\n",
    "ksads.warn_missing(missing, form)"
   ]
  },
  {
   "cell_type": "markdown",
   "metadata": {},
   "source": [
    "# Supplement"
   ]
  },
  {
   "cell_type": "code",
   "execution_count": null,
   "metadata": {},
   "outputs": [],
   "source": [
    "form = 'supplement'\n",
    "data = ksads.read_data(form)\n",
    "overall[form] = data"
   ]
  },
  {
   "cell_type": "code",
   "execution_count": null,
   "metadata": {},
   "outputs": [],
   "source": [
    "data['merged'] = data['merged'].drop_duplicates(['patientid','patienttype'])\n",
    "df = data['merged']"
   ]
  },
  {
   "cell_type": "code",
   "execution_count": null,
   "metadata": {},
   "outputs": [],
   "source": [
    "df = data['merged']\n",
    "df = df[['patientid', 'patienttype', 'sitename', 'additionalinfo']].copy()\n",
    "df['subject'] = df['patientid'].str.split(\"_\", 1, expand=True)[0].str.strip()"
   ]
  },
  {
   "cell_type": "markdown",
   "metadata": {},
   "source": [
    "### Additional Info\n",
    "Please read the additional info columns for possible clarifications/corrections:"
   ]
  },
  {
   "cell_type": "code",
   "execution_count": null,
   "metadata": {},
   "outputs": [],
   "source": [
    "data['added'].dropna(subset=['additionalinfo'])"
   ]
  },
  {
   "cell_type": "markdown",
   "metadata": {},
   "source": [
    "### Quality Control"
   ]
  },
  {
   "cell_type": "code",
   "execution_count": null,
   "metadata": {},
   "outputs": [],
   "source": [
    "duplicates = df[df.duplicated(['patientid', 'patienttype'], keep=False)]\n",
    "duplicates['reason'] = 'Duplicate IDs'\n",
    "data['duplicates'] = duplicates\n",
    "ksads.warn_duplicates(duplicates, form)"
   ]
  },
  {
   "cell_type": "code",
   "execution_count": null,
   "metadata": {},
   "outputs": [],
   "source": [
    "not_in_redcap = h.difference(df, studyids.subject).copy()\n",
    "not_in_redcap['reason'] = 'PatientID not in Redcap'\n",
    "not_in_redcap.rename(columns={'sitename': 'site'}, inplace=True)\n",
    "data['not_in_redcap'] = not_in_redcap\n",
    "ksads.warn_not_in_redcap(not_in_redcap, form)"
   ]
  },
  {
   "cell_type": "code",
   "execution_count": null,
   "metadata": {},
   "outputs": [],
   "source": [
    "missing = h.difference(studydata, df.subject).copy()\n",
    "missing = missing[missing.flagged.isnull()]\n",
    "missing = missing[missing.interview_date < '2019-05-01']\n",
    "missing = missing[missing.study != 'hcpa']\n",
    "missing['reason'] = 'Missing in Box'\n",
    "data['missing'] = missing\n",
    "ksads.warn_missing(missing, form)"
   ]
  },
  {
   "cell_type": "markdown",
   "metadata": {},
   "source": [
    "# Upload New Data"
   ]
  },
  {
   "cell_type": "code",
   "execution_count": null,
   "metadata": {},
   "outputs": [],
   "source": []
  },
  {
   "cell_type": "code",
   "execution_count": null,
   "metadata": {},
   "outputs": [],
   "source": [
    "def put_data(d):\n",
    "    data = {\n",
    "        'token': '',\n",
    "        'content': 'record',\n",
    "        'format': 'csv',\n",
    "        'type': 'flat',\n",
    "        'overwriteBehavior': 'overwrite',\n",
    "        'forceAutoNumber': 'false',\n",
    "        'data': d.to_csv(index=False),\n",
    "        'returnContent': 'ids',\n",
    "        'returnFormat': 'json',\n",
    "    }\n",
    "    r = requests.post('https://redcap.wustl.edu/redcap/api/', data)\n",
    "    return r"
   ]
  },
  {
   "cell_type": "code",
   "execution_count": null,
   "metadata": {},
   "outputs": [],
   "source": [
    "x = put_data(overall['intro']['added']).json()\n",
    "len(x)"
   ]
  },
  {
   "cell_type": "code",
   "execution_count": null,
   "metadata": {},
   "outputs": [],
   "source": [
    "y = put_data(overall['screener']['added']).json()\n",
    "len(y)"
   ]
  },
  {
   "cell_type": "code",
   "execution_count": null,
   "metadata": {},
   "outputs": [],
   "source": [
    "z = put_data(overall['supplement']['added']).json()\n",
    "len(z)"
   ]
  }
 ],
 "metadata": {
  "kernelspec": {
   "display_name": "ccf_env",
   "language": "python",
   "name": "ccf_env"
  },
  "language_info": {
   "codemirror_mode": {
    "name": "ipython",
    "version": 3
   },
   "file_extension": ".py",
   "mimetype": "text/x-python",
   "name": "python",
   "nbconvert_exporter": "python",
   "pygments_lexer": "ipython3",
   "version": "3.7.5"
  },
  "pycharm": {
   "stem_cell": {
    "cell_type": "raw",
    "metadata": {
     "collapsed": false
    },
    "source": []
   }
  }
 },
 "nbformat": 4,
 "nbformat_minor": 2
}
