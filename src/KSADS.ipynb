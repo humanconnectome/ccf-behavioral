{
 "cells": [
  {
   "cell_type": "code",
   "execution_count": null,
   "metadata": {
    "pycharm": {
     "name": "#%%\n"
    }
   },
   "outputs": [],
   "source": [
    "# Downloading the lastest data from KSADS.net \n",
    "# takes more than 30 min\n",
    "import DownloadKsads\n",
    "\n",
    "DownloadKsads.main()\n",
    "print('Done.')"
   ]
  },
  {
   "cell_type": "code",
   "execution_count": null,
   "metadata": {
    "pycharm": {
     "is_executing": false
    }
   },
   "outputs": [],
   "source": [
    "import os\n",
    "import pandas as pd\n",
    "import PandasHelper as h\n",
    "from download.redcap import get_behavioral_ids, RedcapTable\n",
    "from KsadsHelper import KSADS\n",
    "\n",
    "from config import LoadSettings"
   ]
  },
  {
   "cell_type": "code",
   "execution_count": null,
   "metadata": {},
   "outputs": [],
   "source": [
    "def read_csv(date, form):\n",
    "    return pd.read_csv(os.path.join(downloads_dir, date, form + '.csv'), low_memory=False)"
   ]
  },
  {
   "cell_type": "code",
   "execution_count": null,
   "metadata": {
    "pycharm": {
     "is_executing": false
    }
   },
   "outputs": [],
   "source": [
    "table = RedcapTable.get_table_by_name('ksads')\n",
    "studyids = get_behavioral_ids()\n",
    "studydata = studyids[studyids.study != 'hcpdparent']"
   ]
  },
  {
   "cell_type": "code",
   "execution_count": null,
   "metadata": {
    "pycharm": {
     "is_executing": false,
     "name": "#%%\n"
    }
   },
   "outputs": [],
   "source": [
    "config = LoadSettings()\n",
    "downloads_dir = config['KSADS']['download_dir']\n",
    "dates = sorted(os.listdir(downloads_dir))\n",
    "\n",
    "olddate = dates[0]\n",
    "newdate = dates[-1]\n",
    "\n",
    "form = 'intro'\n",
    "form_complete = f'{form}_complete'\n",
    "old = read_csv(olddate, form)\n",
    "new = read_csv(newdate, form)\n",
    "redcap_df = table.get_frame(forms=['common', form])\n",
    "redcap_df = redcap_df[redcap_df[form_complete] == 1]"
   ]
  },
  {
   "cell_type": "code",
   "execution_count": null,
   "metadata": {
    "pycharm": {
     "is_executing": false,
     "name": "#%%\n"
    }
   },
   "outputs": [],
   "source": [
    "deleted = h.difference(old, new, 'id')\n",
    "modified = h.intersection_both(old, new, 'id', sources=['old', 'new'], drop_duplicates=True)\n",
    "added = h.difference(new, old, 'id').copy()\n",
    "added[form_complete] = 1\n",
    "added['common_complete'] = 1\n",
    "added = h.difference(added, redcap_df)"
   ]
  },
  {
   "cell_type": "code",
   "execution_count": null,
   "metadata": {
    "pycharm": {
     "is_executing": false,
     "name": "#%%\n"
    }
   },
   "outputs": [],
   "source": [
    "if added is not None and not added.empty:\n",
    "    merged = redcap_df.append(added, sort=False)\n",
    "else:\n",
    "    merged = redcap_df"
   ]
  },
  {
   "cell_type": "code",
   "execution_count": null,
   "metadata": {},
   "outputs": [],
   "source": [
    "added.shape"
   ]
  },
  {
   "cell_type": "code",
   "execution_count": null,
   "metadata": {},
   "outputs": [],
   "source": [
    "merged.shape"
   ]
  },
  {
   "cell_type": "markdown",
   "metadata": {},
   "source": [
    "# Intro"
   ]
  },
  {
   "cell_type": "code",
   "execution_count": null,
   "metadata": {
    "pycharm": {
     "is_executing": false
    }
   },
   "outputs": [],
   "source": [
    "df = merged[['patientid', 'patienttype', 'sitename', 'additionalinfo']].copy()\n",
    "df['subject'] = df['patientid'].str.split(\"_\", 1, expand=True)[0].str.strip()"
   ]
  },
  {
   "cell_type": "markdown",
   "metadata": {},
   "source": [
    "### Additional Info\n",
    "Please read the additional info columns for possible clarifications/corrections:"
   ]
  },
  {
   "cell_type": "code",
   "execution_count": null,
   "metadata": {},
   "outputs": [],
   "source": [
    "additionalinfo = added.dropna(subset=['additionalinfo'])\n",
    "additionalinfo\n",
    "# widget display additional info"
   ]
  },
  {
   "cell_type": "markdown",
   "metadata": {},
   "source": [
    "### Quality Control"
   ]
  },
  {
   "cell_type": "code",
   "execution_count": null,
   "metadata": {},
   "outputs": [],
   "source": [
    "dups = merged[merged.duplicated(['patientid','patienttype'], keep=False)].sort_values(['patientid','patienttype'])\n",
    "\n",
    "dups"
   ]
  },
  {
   "cell_type": "code",
   "execution_count": null,
   "metadata": {},
   "outputs": [],
   "source": [
    "new[new.duplicated(['patientid','patienttype'], keep=False)].sort_values(['patientid','patienttype'])"
   ]
  },
  {
   "cell_type": "code",
   "execution_count": null,
   "metadata": {},
   "outputs": [],
   "source": [
    "duplicates = df[df.duplicated(['patientid', 'patienttype'], keep=False)].copy()\n",
    "duplicates.sort_values(['patientid','patienttype'])\n",
    "# ksads.warn_duplicates(duplicates, form)"
   ]
  },
  {
   "cell_type": "code",
   "execution_count": null,
   "metadata": {},
   "outputs": [],
   "source": []
  },
  {
   "cell_type": "code",
   "execution_count": null,
   "metadata": {},
   "outputs": [],
   "source": []
  },
  {
   "cell_type": "code",
   "execution_count": null,
   "metadata": {},
   "outputs": [],
   "source": [
    "not_in_redcap = h.difference(df, studyids.subject).copy()\n",
    "not_in_redcap['reason'] = 'PatientID not in Redcap'\n",
    "not_in_redcap.rename(columns={'sitename': 'site'}, inplace=True)\n",
    "data['not_in_redcap'] = not_in_redcap\n",
    "ksads.warn_not_in_redcap(not_in_redcap, form)"
   ]
  },
  {
   "cell_type": "code",
   "execution_count": null,
   "metadata": {},
   "outputs": [],
   "source": [
    "missing = h.difference(studydata, df.subject).copy()\n",
    "missing = missing[missing.flagged.isnull()]\n",
    "missing = missing[missing.interview_date < '2019-05-01']\n",
    "missing = missing[missing.study != 'hcpa']\n",
    "missing['reason'] = 'Missing in Box'\n",
    "data['missing'] = missing\n",
    "ksads.warn_missing(missing, form)"
   ]
  },
  {
   "cell_type": "markdown",
   "metadata": {},
   "source": [
    "# Screener"
   ]
  },
  {
   "cell_type": "code",
   "execution_count": null,
   "metadata": {},
   "outputs": [],
   "source": [
    "form = 'screener'\n",
    "data = ksads.read_data(form)\n",
    "overall[form] = data"
   ]
  },
  {
   "cell_type": "code",
   "execution_count": null,
   "metadata": {},
   "outputs": [],
   "source": [
    "data['merged'] = data['merged'].drop_duplicates(['patientid','patienttype'], keep='last')\n",
    "df = data['merged']"
   ]
  },
  {
   "cell_type": "code",
   "execution_count": null,
   "metadata": {},
   "outputs": [],
   "source": [
    "df = data['merged']\n",
    "df = df[['patientid', 'patienttype', 'sitename', 'additionalinfo']].copy()\n",
    "df['subject'] = df['patientid'].str.split(\"_\", 1, expand=True)[0].str.strip()"
   ]
  },
  {
   "cell_type": "markdown",
   "metadata": {},
   "source": [
    "### Additional Info\n",
    "Please read the additional info columns for possible clarifications/corrections:"
   ]
  },
  {
   "cell_type": "code",
   "execution_count": null,
   "metadata": {},
   "outputs": [],
   "source": [
    "data['added'].dropna(subset=['additionalinfo'])"
   ]
  },
  {
   "cell_type": "markdown",
   "metadata": {},
   "source": [
    "### Quality Control"
   ]
  },
  {
   "cell_type": "code",
   "execution_count": null,
   "metadata": {},
   "outputs": [],
   "source": [
    "duplicates = df[df.duplicated(['patientid', 'patienttype'], keep=False)]\n",
    "duplicates['reason'] = 'Duplicate IDs'\n",
    "data['duplicates'] = duplicates\n",
    "ksads.warn_duplicates(duplicates, form)"
   ]
  },
  {
   "cell_type": "code",
   "execution_count": null,
   "metadata": {},
   "outputs": [],
   "source": [
    "not_in_redcap = h.difference(df, studyids.subject).copy()\n",
    "not_in_redcap['reason'] = 'PatientID not in Redcap'\n",
    "not_in_redcap.rename(columns={'sitename': 'site'}, inplace=True)\n",
    "data['not_in_redcap'] = not_in_redcap\n",
    "ksads.warn_not_in_redcap(not_in_redcap, form)"
   ]
  },
  {
   "cell_type": "code",
   "execution_count": null,
   "metadata": {},
   "outputs": [],
   "source": [
    "missing = h.difference(studydata, df.subject).copy()\n",
    "missing = missing[missing.flagged.isnull()]\n",
    "missing = missing[missing.interview_date < '2019-05-01']\n",
    "missing = missing[missing.study != 'hcpa']\n",
    "missing['reason'] = 'Missing in Box'\n",
    "data['missing'] = missing\n",
    "ksads.warn_missing(missing, form)"
   ]
  },
  {
   "cell_type": "markdown",
   "metadata": {},
   "source": [
    "# Supplement"
   ]
  },
  {
   "cell_type": "code",
   "execution_count": null,
   "metadata": {},
   "outputs": [],
   "source": [
    "form = 'supplement'\n",
    "data = ksads.read_data(form)\n",
    "overall[form] = data"
   ]
  },
  {
   "cell_type": "code",
   "execution_count": null,
   "metadata": {},
   "outputs": [],
   "source": [
    "data['merged'] = data['merged'].drop_duplicates(['patientid','patienttype'])\n",
    "df = data['merged']"
   ]
  },
  {
   "cell_type": "code",
   "execution_count": null,
   "metadata": {},
   "outputs": [],
   "source": [
    "df = data['merged']\n",
    "df = df[['patientid', 'patienttype', 'sitename', 'additionalinfo']].copy()\n",
    "df['subject'] = df['patientid'].str.split(\"_\", 1, expand=True)[0].str.strip()"
   ]
  },
  {
   "cell_type": "markdown",
   "metadata": {},
   "source": [
    "### Additional Info\n",
    "Please read the additional info columns for possible clarifications/corrections:"
   ]
  },
  {
   "cell_type": "code",
   "execution_count": null,
   "metadata": {},
   "outputs": [],
   "source": [
    "data['added'].dropna(subset=['additionalinfo'])"
   ]
  },
  {
   "cell_type": "markdown",
   "metadata": {},
   "source": [
    "### Quality Control"
   ]
  },
  {
   "cell_type": "code",
   "execution_count": null,
   "metadata": {},
   "outputs": [],
   "source": [
    "duplicates = df[df.duplicated(['patientid', 'patienttype'], keep=False)]\n",
    "duplicates['reason'] = 'Duplicate IDs'\n",
    "data['duplicates'] = duplicates\n",
    "ksads.warn_duplicates(duplicates, form)"
   ]
  },
  {
   "cell_type": "code",
   "execution_count": null,
   "metadata": {},
   "outputs": [],
   "source": [
    "not_in_redcap = h.difference(df, studyids.subject).copy()\n",
    "not_in_redcap['reason'] = 'PatientID not in Redcap'\n",
    "not_in_redcap.rename(columns={'sitename': 'site'}, inplace=True)\n",
    "data['not_in_redcap'] = not_in_redcap\n",
    "ksads.warn_not_in_redcap(not_in_redcap, form)"
   ]
  },
  {
   "cell_type": "code",
   "execution_count": null,
   "metadata": {},
   "outputs": [],
   "source": [
    "missing = h.difference(studydata, df.subject).copy()\n",
    "missing = missing[missing.flagged.isnull()]\n",
    "missing = missing[missing.interview_date < '2019-05-01']\n",
    "missing = missing[missing.study != 'hcpa']\n",
    "missing['reason'] = 'Missing in Box'\n",
    "data['missing'] = missing\n",
    "ksads.warn_missing(missing, form)"
   ]
  },
  {
   "cell_type": "markdown",
   "metadata": {},
   "source": [
    "# Upload New Data"
   ]
  },
  {
   "cell_type": "code",
   "execution_count": null,
   "metadata": {},
   "outputs": [],
   "source": []
  },
  {
   "cell_type": "code",
   "execution_count": null,
   "metadata": {},
   "outputs": [],
   "source": [
    "def put_data(d):\n",
    "    return ksads.redcap.send_frame(d)"
   ]
  },
  {
   "cell_type": "code",
   "execution_count": null,
   "metadata": {},
   "outputs": [],
   "source": [
    "x = put_data(overall['intro']['added']).json()\n",
    "len(x)"
   ]
  },
  {
   "cell_type": "code",
   "execution_count": null,
   "metadata": {},
   "outputs": [],
   "source": [
    "y = put_data(overall['screener']['added']).json()\n",
    "len(y)"
   ]
  },
  {
   "cell_type": "code",
   "execution_count": null,
   "metadata": {},
   "outputs": [],
   "source": [
    "z = put_data(overall['supplement']['added']).json()\n",
    "len(z)"
   ]
  }
 ],
 "metadata": {
  "kernelspec": {
   "display_name": "ccf_env",
   "language": "python",
   "name": "ccf_env"
  },
  "language_info": {
   "codemirror_mode": {
    "name": "ipython",
    "version": 3
   },
   "file_extension": ".py",
   "mimetype": "text/x-python",
   "name": "python",
   "nbconvert_exporter": "python",
   "pygments_lexer": "ipython3",
   "version": "3.7.5"
  },
  "pycharm": {
   "stem_cell": {
    "cell_type": "raw",
    "metadata": {
     "collapsed": false
    },
    "source": []
   }
  }
 },
 "nbformat": 4,
 "nbformat_minor": 2
}
