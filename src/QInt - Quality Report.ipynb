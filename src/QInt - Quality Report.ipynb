{
 "cells": [
  {
   "cell_type": "code",
   "execution_count": null,
   "metadata": {},
   "outputs": [],
   "source": [
    "import numpy as np\n",
    "\n",
    "from importlib import reload\n",
    "from IPython.display import display\n",
    "import pandas as pd\n",
    "import ipysheet\n",
    "import ipywidgets as wg\n",
    "\n",
    "import PandasHelper as ph\n",
    "from QintHelper import Qint\n",
    "qint = Qint()\n",
    "\n",
    "from download.redcap import RedcapTable, Redcap\n",
    "redcap = Redcap()\n",
    "table = RedcapTable.get_table_by_name('qint')"
   ]
  },
  {
   "cell_type": "code",
   "execution_count": null,
   "metadata": {},
   "outputs": [],
   "source": [
    "current_redcap = table.get_frame(forms=['common'])\n",
    "# current_redcap = current_redcap.rename(columns={'subjectid': 'subject'})\n",
    "current_redcap.head(2)"
   ]
  },
  {
   "cell_type": "code",
   "execution_count": null,
   "metadata": {},
   "outputs": [],
   "source": [
    "studyids = qint.get_subjects()\n",
    "studydata = studyids[studyids.study != 'hcpdparent']"
   ]
  },
  {
   "cell_type": "code",
   "execution_count": null,
   "metadata": {},
   "outputs": [],
   "source": [
    "studyids2 = redcap.getredcapids()\n",
    "studydata2 = redcap.getredcapdata()"
   ]
  },
  {
   "cell_type": "code",
   "execution_count": null,
   "metadata": {},
   "outputs": [],
   "source": [
    "excluded = studydata[(studydata.subject_id != studydata.subject)]\n",
    "excluded.head()"
   ]
  },
  {
   "cell_type": "code",
   "execution_count": null,
   "metadata": {},
   "outputs": [],
   "source": [
    "not_in_redcap = ph.difference(current_redcap, studyids.subject,'subjectid', equal_names=False).copy()"
   ]
  },
  {
   "cell_type": "code",
   "execution_count": null,
   "metadata": {},
   "outputs": [],
   "source": [
    "not_in_redcap.insert(0,'delete', False)\n",
    "sheet = ipysheet.sheet(ipysheet.from_dataframe(not_in_redcap))\n",
    "\n",
    "spaced = wg.Layout(margin='30px 0 20px 0')\n",
    "\n",
    "save_btn = wg.Button(description=\"Update\", icon='save')\n",
    "reset_btn = wg.Button(description=\"Reset\", icon='trash')\n",
    "btns = wg.HBox([save_btn, reset_btn], layout=spaced)\n",
    "\n",
    "def on_reset(btn):\n",
    "    sheet.cells= ipysheet.from_dataframe(not_in_redcap).cells\n",
    "#     sheet = ipysheet.sheet(ipysheet.from_dataframe(not_in_redcap))\n",
    "    \n",
    "reset_btn.on_click(on_reset)\n",
    "\n",
    "def on_update(btn):\n",
    "    df = ipysheet.to_dataframe(sheet)\n",
    "    df = df.replace('nan', np.nan)\n",
    "\n",
    "    z = ph.difference(df, not_in_redcap)\n",
    "\n",
    "\n",
    "    updates = z[~z.delete].iloc[:,1:]\n",
    "    if not updates.empty:\n",
    "        r = table.send_frame(updates)\n",
    "        print('Updates: ',r.status_code, r.content)\n",
    "\n",
    "    delete = z[z.delete].id.tolist()\n",
    "    if delete:\n",
    "        r = table.delete_records(delete)\n",
    "        print('Delete Records: ',r.status_code, r.content)\n",
    "\n",
    "save_btn.on_click(on_update)\n",
    "\n",
    "fancy_widget = wg.VBox([wg.Label('Please update the subject id or delete the row.'), sheet, btns])\n",
    "fancy_widget"
   ]
  },
  {
   "cell_type": "code",
   "execution_count": null,
   "metadata": {},
   "outputs": [],
   "source": []
  },
  {
   "cell_type": "code",
   "execution_count": null,
   "metadata": {},
   "outputs": [],
   "source": [
    "current_redcap"
   ]
  },
  {
   "cell_type": "code",
   "execution_count": null,
   "metadata": {},
   "outputs": [],
   "source": [
    "allrowsofinterest = current_redcap[['subjectid', 'visit', 'assessment']]\n",
    "\n",
    "combined = allrowsofinterest.merge(studyids, 'left', left_on='subjectid', right_on='subject')\n",
    "notinredcap = combined.loc[combined.subject_id.isnull()].copy()\n",
    "notinredcap['reason'] = 'PatientID not in Redcap'\n",
    "\n",
    "notinredcap"
   ]
  },
  {
   "cell_type": "code",
   "execution_count": null,
   "metadata": {},
   "outputs": [],
   "source": [
    "combined = allrowsofinterest.merge(studydata, 'right', left_on='subjectid', right_on='subject')\n",
    "notinboxunique = combined.loc[combined.assessment.isnull() & combined.flagged.isnull()].drop_duplicates('subject')\n",
    "notinboxunique"
   ]
  },
  {
   "cell_type": "markdown",
   "metadata": {},
   "source": [
    "# Make sure records are complete"
   ]
  },
  {
   "cell_type": "code",
   "execution_count": null,
   "metadata": {},
   "outputs": [],
   "source": [
    "status1 = redcap.getredcapfields(['data_status', 'misscat'], study='hcpdchild')\n",
    "status1 = status1[['data_status', 'subject_id', 'misscat___9']].copy()\n",
    "status1.columns = ['data_status', 'subject_id', 'misscat']\n",
    "\n",
    "status2 = redcap.getredcapfields(['data_status', 'misscat'], study='hcpa')\n",
    "status2 = status2[['data_status', 'subject_id', 'misscat___7']].copy()\n",
    "status2.columns = ['data_status', 'subject_id', 'misscat']\n",
    "\n",
    "status3 = redcap.getredcapfields(['data_status', 'misscat'], study='hcpd18')\n",
    "status3 = status3[['data_status', 'subject_id', 'misscat___9']].copy()\n",
    "status3.columns = ['data_status', 'subject_id', 'misscat']\n",
    "\n",
    "tnotinboxunique = notinboxunique\\\n",
    "                    .merge(status1, 'left', 'subject_id', suffixes=('','_x'))\\\n",
    "                    .merge(status2, 'left', 'subject_id', suffixes=('','_y'))\\\n",
    "                    .merge(status3, 'left', 'subject_id', suffixes=('','_z'))\n",
    "\n",
    "t = tnotinboxunique.copy()\n",
    "\n",
    "t.data_status.mask(t.data_status.isnull(), t.data_status_y, inplace=True)\n",
    "t.data_status.mask(t.data_status.isnull(), t.data_status_z, inplace=True)\n",
    "t.misscat.mask(t.misscat.isnull(), t.misscat_y, inplace=True)\n",
    "t.misscat.mask(t.misscat.isnull(), t.misscat_z, inplace=True)\n",
    "\n",
    "t.drop(columns={'data_status_y','data_status_z','misscat_y','misscat_z'}, inplace=True)\n",
    "\n",
    "t.loc[t.data_status.isna(), 'reason'] = 'Missing in Box - visit summary incomplete'\n",
    "t.loc[t.data_status == 1, 'reason'] = 'Missing in Box - visit summary says complete '\n",
    "t.loc[(t.data_status == 2) & (t.misscat != 1), 'reason'] = 'Missing in Box - visit summary says incomplete but cog testing not specified '\n",
    "notinboxunique = t[(t.data_status != 2) | (t.misscat != 1)]"
   ]
  },
  {
   "cell_type": "code",
   "execution_count": null,
   "metadata": {},
   "outputs": [],
   "source": [
    "ph.asInt([status1, status2, status3], 'data_status', 'misscat')"
   ]
  },
  {
   "cell_type": "code",
   "execution_count": null,
   "metadata": {},
   "outputs": [],
   "source": []
  },
  {
   "cell_type": "code",
   "execution_count": null,
   "metadata": {},
   "outputs": [],
   "source": []
  },
  {
   "cell_type": "code",
   "execution_count": null,
   "metadata": {},
   "outputs": [],
   "source": [
    "studydata"
   ]
  },
  {
   "cell_type": "code",
   "execution_count": null,
   "metadata": {},
   "outputs": [],
   "source": [
    "# get list of ids that need visit numbers associated with files\n",
    "needsvisit = current_redcap[current_redcap.visit.isna()]\n",
    "needsvisit = needsvisit \\\n",
    "    .merge(studydata, 'left', 'subject') \\\n",
    "    .drop(columns={'dob', 'flagged', 'gender', 'subject_id'})\n",
    "needsvisit['reason'] = 'please specify visit number'\n",
    "needsvisit"
   ]
  },
  {
   "cell_type": "code",
   "execution_count": null,
   "metadata": {},
   "outputs": [],
   "source": [
    "catQC = pd.concat([notinredcap, notinboxunique, needsvisit], axis=0, sort=True)\n",
    "catQC = catQC[['subject', 'interview_date', 'study', 'site', 'filename', 'reason', 'visit']]\n",
    "catQC = catQC.sort_values(['site','study'])"
   ]
  },
  {
   "cell_type": "code",
   "execution_count": null,
   "metadata": {},
   "outputs": [],
   "source": [
    "catQC.shape"
   ]
  },
  {
   "cell_type": "code",
   "execution_count": null,
   "metadata": {},
   "outputs": [],
   "source": [
    "with open('qint_exclude_list.txt', 'r') as fd:\n",
    "    excluded = fd.read().split()"
   ]
  },
  {
   "cell_type": "code",
   "execution_count": null,
   "metadata": {},
   "outputs": [],
   "source": [
    "# if known perminently deleted, then remove from list\n",
    "catQC = catQC[~catQC.subject.isin(excluded)]"
   ]
  },
  {
   "cell_type": "code",
   "execution_count": null,
   "metadata": {},
   "outputs": [],
   "source": [
    "catQC.shape"
   ]
  },
  {
   "cell_type": "code",
   "execution_count": null,
   "metadata": {},
   "outputs": [],
   "source": [
    "catQC"
   ]
  },
  {
   "cell_type": "code",
   "execution_count": null,
   "metadata": {},
   "outputs": [],
   "source": []
  },
  {
   "cell_type": "code",
   "execution_count": null,
   "metadata": {},
   "outputs": [],
   "source": []
  }
 ],
 "metadata": {
  "kernelspec": {
   "display_name": "ccf_env",
   "language": "python",
   "name": "ccf_env"
  },
  "language_info": {
   "codemirror_mode": {
    "name": "ipython",
    "version": 3
   },
   "file_extension": ".py",
   "mimetype": "text/x-python",
   "name": "python",
   "nbconvert_exporter": "python",
   "pygments_lexer": "ipython3",
   "version": "3.7.5"
  },
  "pycharm": {
   "stem_cell": {
    "cell_type": "raw",
    "metadata": {
     "collapsed": false
    },
    "source": []
   }
  }
 },
 "nbformat": 4,
 "nbformat_minor": 2
}
