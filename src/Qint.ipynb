{
 "cells": [
  {
   "cell_type": "markdown",
   "metadata": {},
   "source": [
    "### Purpose\n",
    "This program gathers all of the new raw Q-interactive data from Box and appends it to current snapshot"
   ]
  },
  {
   "cell_type": "code",
   "execution_count": 1,
   "metadata": {
    "pycharm": {
     "is_executing": false
    }
   },
   "outputs": [],
   "source": [
    "from importlib import reload\n",
    "from IPython.display import display\n",
    "from numpy import nan\n",
    "import pandas as pd\n",
    "\n",
    "import PandasHelper as ph\n",
    "from QintHelper import Qint\n",
    "qint = Qint()\n",
    "\n",
    "from download.redcap import RedcapTable\n",
    "table = RedcapTable.get_table_by_name('qint')"
   ]
  },
  {
   "cell_type": "code",
   "execution_count": null,
   "metadata": {},
   "outputs": [],
   "source": [
    "# scan box to generate an up-to-date filelist\n",
    "filelist = qint.scan_box()\n",
    "filelist.head(3)"
   ]
  },
  {
   "cell_type": "code",
   "execution_count": null,
   "metadata": {
    "pycharm": {
     "is_executing": false
    }
   },
   "outputs": [],
   "source": [
    "cached_filelist = pd.read_csv('qint_files.csv')\n",
    "cached_filelist.head(3)"
   ]
  },
  {
   "cell_type": "code",
   "execution_count": 5,
   "metadata": {
    "pycharm": {
     "is_executing": false
    }
   },
   "outputs": [],
   "source": [
    "ph.asInt([filelist,cached_filelist], 'fileid')"
   ]
  },
  {
   "cell_type": "code",
   "execution_count": 6,
   "metadata": {
    "pycharm": {
     "is_executing": false
    }
   },
   "outputs": [],
   "source": [
    "merged_filelist = cached_filelist.merge(filelist, 'right', on=['fileid'], suffixes=['_old','']) \n",
    "fresh_files = merged_filelist[merged_filelist.sha1_old.isna()]\n",
    "updated_files = merged_filelist[merged_filelist.sha1_old.notna()]"
   ]
  },
  {
   "cell_type": "code",
   "execution_count": 7,
   "metadata": {
    "pycharm": {
     "is_executing": false
    }
   },
   "outputs": [
    {
     "data": {
      "text/html": [
       "<div>\n",
       "<style scoped>\n",
       "    .dataframe tbody tr th:only-of-type {\n",
       "        vertical-align: middle;\n",
       "    }\n",
       "\n",
       "    .dataframe tbody tr th {\n",
       "        vertical-align: top;\n",
       "    }\n",
       "\n",
       "    .dataframe thead th {\n",
       "        text-align: right;\n",
       "    }\n",
       "</style>\n",
       "<table border=\"1\" class=\"dataframe\">\n",
       "  <thead>\n",
       "    <tr style=\"text-align: right;\">\n",
       "      <th></th>\n",
       "      <th>created</th>\n",
       "      <th>fileid</th>\n",
       "      <th>filename_old</th>\n",
       "      <th>path</th>\n",
       "      <th>source</th>\n",
       "      <th>sha1_old</th>\n",
       "      <th>filename</th>\n",
       "      <th>sha1</th>\n",
       "    </tr>\n",
       "  </thead>\n",
       "  <tbody>\n",
       "  </tbody>\n",
       "</table>\n",
       "</div>"
      ],
      "text/plain": [
       "Empty DataFrame\n",
       "Columns: [created, fileid, filename_old, path, source, sha1_old, filename, sha1]\n",
       "Index: []"
      ]
     },
     "execution_count": 7,
     "metadata": {},
     "output_type": "execute_result"
    }
   ],
   "source": [
    "# Please deal with these rows that updated content\n",
    "updated_content = updated_files[updated_files.sha1_old != updated_files.sha1]\n",
    "updated_content"
   ]
  },
  {
   "cell_type": "code",
   "execution_count": 8,
   "metadata": {
    "pycharm": {
     "is_executing": false
    }
   },
   "outputs": [
    {
     "data": {
      "text/html": [
       "<div>\n",
       "<style scoped>\n",
       "    .dataframe tbody tr th:only-of-type {\n",
       "        vertical-align: middle;\n",
       "    }\n",
       "\n",
       "    .dataframe tbody tr th {\n",
       "        vertical-align: top;\n",
       "    }\n",
       "\n",
       "    .dataframe thead th {\n",
       "        text-align: right;\n",
       "    }\n",
       "</style>\n",
       "<table border=\"1\" class=\"dataframe\">\n",
       "  <thead>\n",
       "    <tr style=\"text-align: right;\">\n",
       "      <th></th>\n",
       "      <th>created</th>\n",
       "      <th>fileid</th>\n",
       "      <th>filename_old</th>\n",
       "      <th>path</th>\n",
       "      <th>source</th>\n",
       "      <th>sha1_old</th>\n",
       "      <th>filename</th>\n",
       "      <th>sha1</th>\n",
       "    </tr>\n",
       "  </thead>\n",
       "  <tbody>\n",
       "  </tbody>\n",
       "</table>\n",
       "</div>"
      ],
      "text/plain": [
       "Empty DataFrame\n",
       "Columns: [created, fileid, filename_old, path, source, sha1_old, filename, sha1]\n",
       "Index: []"
      ]
     },
     "execution_count": 8,
     "metadata": {},
     "output_type": "execute_result"
    }
   ],
   "source": [
    "# Please deal with these rows that have a name change. This might mean deleting the an existing row in redcap.\n",
    "# todo: make sure that that updated_content and updated_names do not overlap otherwise concat below will contain duplicates\n",
    "updated_names = updated_files[updated_files.filename_old != updated_files.filename]\n",
    "updated_names"
   ]
  },
  {
   "cell_type": "code",
   "execution_count": null,
   "metadata": {
    "pycharm": {
     "is_executing": false
    }
   },
   "outputs": [],
   "source": [
    "fetchlist = pd.concat([fresh_files, updated_content, updated_names])\n",
    "fetchlist = fetchlist[['created','fileid','filename','sha1']]\n",
    "fetchlist.head()"
   ]
  },
  {
   "cell_type": "code",
   "execution_count": 10,
   "metadata": {
    "pycharm": {
     "is_executing": false
    }
   },
   "outputs": [
    {
     "name": "stdout",
     "output_type": "stream",
     "text": [
      "................................"
     ]
    }
   ],
   "source": [
    "updates = qint.get_data(fetchlist.fileid)\n",
    "db = qint.elongate(updates)"
   ]
  },
  {
   "cell_type": "code",
   "execution_count": null,
   "metadata": {},
   "outputs": [],
   "source": [
    "updates = pd.concat(db.values(), ignore_index=True, sort = False)\n",
    "ph.asInt(updates, 'fileid', 'visit', 'ravlt_two')\n",
    "updates.head(2)"
   ]
  },
  {
   "cell_type": "code",
   "execution_count": null,
   "metadata": {},
   "outputs": [],
   "source": [
    "current_redcap = table.get_frame(forms=['common'])\n",
    "ph.asInt(current_redcap, 'visit', 'id')\n",
    "current_redcap.head(2)"
   ]
  },
  {
   "cell_type": "code",
   "execution_count": null,
   "metadata": {},
   "outputs": [],
   "source": [
    "merged_redcap = current_redcap[['id','subjectid','visit', 'sha1']].merge(updates, 'right', on=['subjectid','visit'], suffixes=['.redcap',''])\n",
    "merged_redcap.head(2)"
   ]
  },
  {
   "cell_type": "code",
   "execution_count": 15,
   "metadata": {},
   "outputs": [
    {
     "name": "stdout",
     "output_type": "stream",
     "text": [
      "Ignoring 32 rows with identical subject id, visit, and sha1\n",
      "Continuing with 0 non-identical rows\n"
     ]
    }
   ],
   "source": [
    "is_identical = merged_redcap['sha1.redcap'] == merged_redcap.sha1\n",
    "identical = merged_redcap[is_identical]\n",
    "print('Ignoring %s rows with identical subject id, visit, and sha1' % len(identical))\n",
    "\n",
    "changes = merged_redcap[~is_identical]\n",
    "changes = changes.drop(columns=['sha1.redcap'])\n",
    "print('Continuing with %s non-identical rows' % len(changes))"
   ]
  },
  {
   "cell_type": "code",
   "execution_count": 16,
   "metadata": {},
   "outputs": [
    {
     "data": {
      "text/html": [
       "<div>\n",
       "<style scoped>\n",
       "    .dataframe tbody tr th:only-of-type {\n",
       "        vertical-align: middle;\n",
       "    }\n",
       "\n",
       "    .dataframe tbody tr th {\n",
       "        vertical-align: top;\n",
       "    }\n",
       "\n",
       "    .dataframe thead th {\n",
       "        text-align: right;\n",
       "    }\n",
       "</style>\n",
       "<table border=\"1\" class=\"dataframe\">\n",
       "  <thead>\n",
       "    <tr style=\"text-align: right;\">\n",
       "      <th></th>\n",
       "      <th>id</th>\n",
       "      <th>subjectid</th>\n",
       "      <th>visit</th>\n",
       "      <th>fileid</th>\n",
       "      <th>filename</th>\n",
       "      <th>sha1</th>\n",
       "      <th>created</th>\n",
       "      <th>assessment</th>\n",
       "      <th>ravlt_two</th>\n",
       "      <th>ravlt_pea_ravlt_sd_tc</th>\n",
       "      <th>...</th>\n",
       "      <th>wppsi_matrixreason_item18</th>\n",
       "      <th>wppsi_matrixreason_item19</th>\n",
       "      <th>wppsi_matrixreason_item20</th>\n",
       "      <th>wppsi_matrixreason_item21</th>\n",
       "      <th>wppsi_matrixreason_item22</th>\n",
       "      <th>wppsi_matrixreason_item23</th>\n",
       "      <th>wppsi_matrixreason_item24</th>\n",
       "      <th>wppsi_matrixreason_item25</th>\n",
       "      <th>wppsi_matrixreason_item26</th>\n",
       "      <th>wppsi_complete</th>\n",
       "    </tr>\n",
       "  </thead>\n",
       "  <tbody>\n",
       "  </tbody>\n",
       "</table>\n",
       "<p>0 rows × 149 columns</p>\n",
       "</div>"
      ],
      "text/plain": [
       "Empty DataFrame\n",
       "Columns: [id, subjectid, visit, fileid, filename, sha1, created, assessment, ravlt_two, ravlt_pea_ravlt_sd_tc, ravlt_delay_scaled, ravlt_delay_completion, ravlt_discontinue, ravlt_reverse, ravlt_pea_ravlt_sd_trial_i_tc, ravlt_pea_ravlt_sd_trial_ii_tc, ravlt_pea_ravlt_sd_trial_iii_tc, ravlt_pea_ravlt_sd_trial_iv_tc, ravlt_pea_ravlt_sd_trial_v_tc, ravlt_pea_ravlt_sd_listb_tc, ravlt_pea_ravlt_sd_trial_vi_tc, ravlt_recall_correct_trial1, ravlt_recall_correct_trial2, ravlt_recall_correct_trial3, ravlt_recall_correct_trial4, ravlt_delay_recall_correct, ravlt_delay_recall_intrusion, ravlt_delay_total_intrusion, ravlt_delay_total_repetitions, ravlt_complete, wais_scoring_matrixreasoning_raw, wais_scoring_matrixreasoning_scaled, wais_wais_dk, wais_wais_nr, wais_wais_p, wais_matrix_completion, wais_discontinue, wais_reverse, wais_matrixreasoning_a_resp, wais_matrixreasoning_b_resp, wais_matrixreasoning_1_score, wais_matrixreasoning_2_score, wais_matrixreasoning_3_score, wais_matrixreasoning_4_score, wais_matrixreasoning_5_score, wais_matrixreasoning_6_score, wais_matrixreasoning_7_score, wais_matrixreasoning_8_score, wais_matrixreasoning_9_score, wais_matrixreasoning_10_score, wais_matrixreasoning_11_score, wais_matrixreasoning_12_score, wais_matrixreasoning_13_score, wais_matrixreasoning_14_score, wais_matrixreasoning_15_score, wais_matrixreasoning_16_score, wais_matrixreasoning_17_score, wais_matrixreasoning_18_score, wais_matrixreasoning_19_score, wais_matrixreasoning_20_score, wais_matrixreasoning_21_score, wais_matrixreasoning_22_score, wais_matrixreasoning_23_score, wais_matrixreasoning_24_score, wais_matrixreasoning_25_score, wais_matrixreasoning_26_score, wais_complete, wisc_matrixreason_score, wisc_scaled_matrix, wisc_subtesttypedk, wisc_subtesttypenr, wisc_subtesttypesc, wisc_subtesttypesv, wisc_matrix_completion, wisc_discontinue, wisc_reverse, wisc_pea_wiscv_item_a_rs, wisc_pea_wiscv_item_b_rs, wisc_matrixreason_item1, wisc_matrixreason_item2, wisc_matrixreason_item3, wisc_matrixreason_item4, wisc_matrixreason_item5, wisc_matrixreason_item6, wisc_matrixreason_item7, wisc_matrixreason_item8, wisc_matrixreason_item9, wisc_matrixreason_item10, wisc_matrixreason_item11, wisc_matrixreason_item12, wisc_matrixreason_item13, wisc_matrixreason_item14, wisc_matrixreason_item15, wisc_matrixreason_item16, wisc_matrixreason_item17, wisc_matrixreason_item18, wisc_matrixreason_item19, wisc_matrixreason_item20, wisc_matrixreason_item21, wisc_matrixreason_item22, ...]\n",
       "Index: []\n",
       "\n",
       "[0 rows x 149 columns]"
      ]
     },
     "execution_count": 16,
     "metadata": {},
     "output_type": "execute_result"
    }
   ],
   "source": [
    "changes"
   ]
  },
  {
   "cell_type": "code",
   "execution_count": 17,
   "metadata": {},
   "outputs": [],
   "source": [
    "has_redcap_id = changes.id.notna()\n",
    "\n",
    "overwrite_old_rows = changes[has_redcap_id]\n",
    "create_new_rows = changes[~has_redcap_id]\n",
    "create_new_rows['id'] = table.generate_next_record_ids(len(create_new_rows))\n",
    "\n",
    "changes = pd.concat([overwrite_old_rows, create_new_rows])"
   ]
  },
  {
   "cell_type": "code",
   "execution_count": null,
   "metadata": {},
   "outputs": [],
   "source": [
    "changes"
   ]
  },
  {
   "cell_type": "code",
   "execution_count": 32,
   "metadata": {},
   "outputs": [
    {
     "name": "stdout",
     "output_type": "stream",
     "text": [
      "Updates were successful.\n"
     ]
    },
    {
     "data": {
      "text/plain": [
       "b'[\"2723\"]'"
      ]
     },
     "execution_count": 32,
     "metadata": {},
     "output_type": "execute_result"
    }
   ],
   "source": [
    "submission = table.send_frame(changes)\n",
    "\n",
    "if (submission.status_code == 200):\n",
    "    print('Updates were successful.')\n",
    "\n",
    "submission.content"
   ]
  },
  {
   "cell_type": "code",
   "execution_count": null,
   "metadata": {},
   "outputs": [],
   "source": []
  },
  {
   "cell_type": "code",
   "execution_count": 33,
   "metadata": {},
   "outputs": [],
   "source": [
    "cached_filelist = cached_filelist[['created', 'fileid', 'filename', 'sha1']]\n",
    "new_files_list = cached_filelist.append(updates[['created', 'fileid', 'filename', 'sha1']], sort=False)\n",
    "new_files_list.to_csv('qint_files2.csv', index=False)"
   ]
  },
  {
   "cell_type": "code",
   "execution_count": null,
   "metadata": {},
   "outputs": [],
   "source": []
  },
  {
   "cell_type": "code",
   "execution_count": null,
   "metadata": {},
   "outputs": [],
   "source": []
  }
 ],
 "metadata": {
  "kernelspec": {
   "display_name": "ccf_env",
   "language": "python",
   "name": "ccf_env"
  },
  "language_info": {
   "codemirror_mode": {
    "name": "ipython",
    "version": 3
   },
   "file_extension": ".py",
   "mimetype": "text/x-python",
   "name": "python",
   "nbconvert_exporter": "python",
   "pygments_lexer": "ipython3",
   "version": "3.7.5"
  },
  "pycharm": {
   "stem_cell": {
    "cell_type": "raw",
    "metadata": {
     "collapsed": false
    },
    "source": []
   }
  }
 },
 "nbformat": 4,
 "nbformat_minor": 2
}
