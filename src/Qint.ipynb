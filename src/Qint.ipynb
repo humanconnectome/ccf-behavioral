{
 "cells": [
  {
   "cell_type": "markdown",
   "metadata": {},
   "source": [
    "### Purpose\n",
    "This program gathers all of the new raw Q-interactive data from Box and appends it to current snapshot"
   ]
  },
  {
   "cell_type": "code",
   "execution_count": null,
   "metadata": {
    "pycharm": {
     "is_executing": false
    }
   },
   "outputs": [],
   "source": [
    "from importlib import reload\n",
    "from IPython.display import display\n",
    "from numpy import nan\n",
    "import pandas as pd\n",
    "\n",
    "import PandasHelper as ph\n",
    "from QintHelper import Qint\n",
    "qint = Qint()\n",
    "\n",
    "from download.redcap import RedcapTable\n",
    "table = RedcapTable.get_table_by_name('qint')"
   ]
  },
  {
   "cell_type": "code",
   "execution_count": null,
   "metadata": {},
   "outputs": [],
   "source": [
    "# scan box to generate an up-to-date filelist. Note: Takes a few minutes\n",
    "filelist = qint.scan_box()\n",
    "filelist.head(3)"
   ]
  },
  {
   "cell_type": "code",
   "execution_count": null,
   "metadata": {
    "pycharm": {
     "is_executing": false
    }
   },
   "outputs": [],
   "source": [
    "cached_filelist = pd.read_csv('qint_files.csv')\n",
    "cached_filelist.head(3)"
   ]
  },
  {
   "cell_type": "code",
   "execution_count": null,
   "metadata": {
    "pycharm": {
     "is_executing": false
    }
   },
   "outputs": [],
   "source": [
    "ph.asInt([filelist,cached_filelist], 'fileid')"
   ]
  },
  {
   "cell_type": "code",
   "execution_count": null,
   "metadata": {
    "pycharm": {
     "is_executing": false
    }
   },
   "outputs": [],
   "source": [
    "merged_filelist = cached_filelist.merge(filelist, 'right', on=['fileid'], suffixes=['_old','']) \n",
    "fresh_files = merged_filelist[merged_filelist.sha1_old.isna()]\n",
    "updated_files = merged_filelist[merged_filelist.sha1_old.notna()]"
   ]
  },
  {
   "cell_type": "code",
   "execution_count": null,
   "metadata": {
    "pycharm": {
     "is_executing": false
    }
   },
   "outputs": [],
   "source": [
    "# Please deal with these rows that updated content\n",
    "updated_content = updated_files[updated_files.sha1_old != updated_files.sha1]\n",
    "updated_content"
   ]
  },
  {
   "cell_type": "code",
   "execution_count": null,
   "metadata": {
    "pycharm": {
     "is_executing": false
    }
   },
   "outputs": [],
   "source": [
    "# Please deal with these rows that have a name change. This might mean deleting the an existing row in redcap.\n",
    "# todo: make sure that that updated_content and updated_names do not overlap otherwise concat below will contain duplicates\n",
    "updated_names = updated_files[updated_files.filename_old != updated_files.filename]\n",
    "updated_names"
   ]
  },
  {
   "cell_type": "code",
   "execution_count": null,
   "metadata": {
    "pycharm": {
     "is_executing": false
    }
   },
   "outputs": [],
   "source": [
    "fetchlist = pd.concat([fresh_files, updated_content, updated_names])\n",
    "fetchlist = fetchlist[['created','fileid','filename','sha1']]\n",
    "fetchlist.head()"
   ]
  },
  {
   "cell_type": "code",
   "execution_count": null,
   "metadata": {
    "pycharm": {
     "is_executing": false
    }
   },
   "outputs": [],
   "source": [
    "updates = qint.get_data(fetchlist.fileid)\n",
    "db = qint.elongate(updates)"
   ]
  },
  {
   "cell_type": "code",
   "execution_count": null,
   "metadata": {},
   "outputs": [],
   "source": [
    "updates = pd.concat(db.values(), ignore_index=True, sort = False)\n",
    "ph.asInt(updates, 'fileid', 'visit', 'ravlt_two')\n",
    "updates.head(2)"
   ]
  },
  {
   "cell_type": "code",
   "execution_count": null,
   "metadata": {},
   "outputs": [],
   "source": [
    "current_redcap = table.get_frame(forms=['common'])\n",
    "ph.asInt(current_redcap, 'visit', 'id')\n",
    "current_redcap.head(2)"
   ]
  },
  {
   "cell_type": "code",
   "execution_count": null,
   "metadata": {},
   "outputs": [],
   "source": [
    "merged_redcap = current_redcap[['id','subjectid','visit', 'sha1']].merge(updates, 'right', on=['subjectid','visit'], suffixes=['.redcap',''])\n",
    "merged_redcap.head(2)"
   ]
  },
  {
   "cell_type": "code",
   "execution_count": null,
   "metadata": {},
   "outputs": [],
   "source": [
    "is_identical = merged_redcap['sha1.redcap'] == merged_redcap.sha1\n",
    "identical = merged_redcap[is_identical]\n",
    "print('Ignoring %s rows with identical subject id, visit, and sha1' % len(identical))\n",
    "\n",
    "changes = merged_redcap[~is_identical]\n",
    "changes = changes.drop(columns=['sha1.redcap'])\n",
    "print('Continuing with %s non-identical rows' % len(changes))"
   ]
  },
  {
   "cell_type": "code",
   "execution_count": null,
   "metadata": {},
   "outputs": [],
   "source": [
    "changes"
   ]
  },
  {
   "cell_type": "code",
   "execution_count": null,
   "metadata": {},
   "outputs": [],
   "source": [
    "has_redcap_id = changes.id.notna()\n",
    "\n",
    "overwrite_old_rows = changes[has_redcap_id]\n",
    "create_new_rows = changes[~has_redcap_id]\n",
    "create_new_rows['id'] = table.generate_next_record_ids(len(create_new_rows))\n",
    "\n",
    "changes = pd.concat([overwrite_old_rows, create_new_rows])"
   ]
  },
  {
   "cell_type": "code",
   "execution_count": null,
   "metadata": {},
   "outputs": [],
   "source": [
    "create_new_rows"
   ]
  },
  {
   "cell_type": "code",
   "execution_count": null,
   "metadata": {},
   "outputs": [],
   "source": [
    "changes"
   ]
  },
  {
   "cell_type": "code",
   "execution_count": null,
   "metadata": {},
   "outputs": [],
   "source": [
    "submission = table.send_frame(changes)\n",
    "\n",
    "if (submission.status_code == 200):\n",
    "    print('Updates were successful.')\n",
    "\n",
    "submission.content"
   ]
  },
  {
   "cell_type": "code",
   "execution_count": null,
   "metadata": {},
   "outputs": [],
   "source": []
  },
  {
   "cell_type": "code",
   "execution_count": null,
   "metadata": {},
   "outputs": [],
   "source": [
    "cached_filelist = cached_filelist[['created', 'fileid', 'filename', 'sha1']]\n",
    "new_files_list = cached_filelist.append(updates[['created', 'fileid', 'filename', 'sha1']], sort=False)\n",
    "new_files_list.to_csv('qint_files2.csv', index=False)"
   ]
  },
  {
   "cell_type": "code",
   "execution_count": null,
   "metadata": {},
   "outputs": [],
   "source": []
  },
  {
   "cell_type": "code",
   "execution_count": null,
   "metadata": {},
   "outputs": [],
   "source": []
  }
 ],
 "metadata": {
  "kernelspec": {
   "display_name": "ccf_env",
   "language": "python",
   "name": "ccf_env"
  },
  "language_info": {
   "codemirror_mode": {
    "name": "ipython",
    "version": 3
   },
   "file_extension": ".py",
   "mimetype": "text/x-python",
   "name": "python",
   "nbconvert_exporter": "python",
   "pygments_lexer": "ipython3",
   "version": "3.7.5"
  },
  "pycharm": {
   "stem_cell": {
    "cell_type": "raw",
    "metadata": {
     "collapsed": false
    },
    "source": []
   }
  }
 },
 "nbformat": 4,
 "nbformat_minor": 2
}
